{
 "cells": [
  {
   "cell_type": "markdown",
   "metadata": {},
   "source": [
    "# This notebook will help you register any Rasgo datasets checked into your Version Control system"
   ]
  },
  {
   "cell_type": "code",
   "execution_count": null,
   "metadata": {},
   "outputs": [],
   "source": [
    "# imports\n",
    "import pyrasgo\n",
    "import yaml"
   ]
  },
  {
   "cell_type": "code",
   "execution_count": null,
   "metadata": {},
   "outputs": [],
   "source": [
    "# Parameters\n",
    "# Your PyRasgo API Key\n",
    "PYRASGO_API_KEY = '...' \n",
    "# The path to the repo we'll write files to\n",
    "WORKING_DIR = '/path/to/repo/dir'\n",
    "# The branch to commit to. This branch must already exist! \n",
    "GIT_BRANCH = 'master'"
   ]
  },
  {
   "cell_type": "code",
   "execution_count": null,
   "metadata": {},
   "outputs": [],
   "source": [
    "# pyrasgo connection\n",
    "rasgo = pyrasgo.connect(PYRASGO_API_KEY)"
   ]
  },
  {
   "cell_type": "markdown",
   "metadata": {},
   "source": [
    "## Get latest from your branch"
   ]
  },
  {
   "cell_type": "code",
   "execution_count": null,
   "metadata": {},
   "outputs": [],
   "source": [
    "# cd into your git dir \n",
    "%cd $WORKING_DIR"
   ]
  },
  {
   "cell_type": "code",
   "execution_count": null,
   "metadata": {},
   "outputs": [],
   "source": [
    "# Check out the GIT_BRANCH branch and make sure it's up to date\n",
    "!git fetch\n",
    "!git checkout $GIT_BRANCH \n",
    "!git pull \n",
    "# NOTE: This should not fail! If this fails, ensure that your local repo does not have any changes that differ from origin"
   ]
  },
  {
   "cell_type": "markdown",
   "metadata": {},
   "source": [
    "## Generate YML Files"
   ]
  },
  {
   "cell_type": "code",
   "execution_count": null,
   "metadata": {},
   "outputs": [],
   "source": [
    "import os\n",
    "\n",
    "# Get all Rasgo Datasets\n",
    "datasets = rasgo.get.datasets(include_community=False)\n",
    "\n",
    "# Rasgo dataset repo directory name\n",
    "    # At the root of your directory, you should have a subdirectory that contains the YAML representations for your Rasgo \n",
    "    # datasets\n",
    "RASGO_DIR_NAME = \"rasgo\"\n",
    "if not os.path.exists(f\"{RASGO_DIR_NAME}/datasets\"):\n",
    "    os.mkdir(f\"{RASGO_DIR_NAME}/datasets\")\n",
    "\n",
    "# generate and write out yaml file representation for each dataset\n",
    "for ds in datasets:\n",
    "    file_path = f\"{RASGO_DIR_NAME}/datasets/{ds.resource_key}.yaml\"\n",
    "    try:\n",
    "        ds.generate_yaml(file_path=file_path)\n",
    "    except Exception as _: \n",
    "        # If bad stuff happens, let's still write a file. Git holds on to old versions of a file!\n",
    "        with open(file_path, \"w\") as yaml_file:\n",
    "            err_msg = f\"Failed to generate offline yaml representation of Dataset {ds.resource_key}\"\n",
    "            yaml_file.write(err_msg)\n",
    "            print(err_msg)"
   ]
  },
  {
   "cell_type": "code",
   "execution_count": null,
   "metadata": {},
   "outputs": [],
   "source": [
    "# Get all of your Transforms\n",
    "transforms = rasgo.get.transforms(include_community=False)\n",
    "\n",
    "if not os.path.exists(f\"{RASGO_DIR_NAME}/transforms\"):\n",
    "    os.mkdir(f\"{RASGO_DIR_NAME}/transforms\")\n",
    "\n",
    "# generate and write out yaml file representation for each transform\n",
    "for tr in transforms:\n",
    "    \n",
    "    # We'll write Transforms as 2 files: the SQL source and the Transform model itself\n",
    "    # Let's make a folder to hold them\n",
    "    transform_folder = f\"{RASGO_DIR_NAME}/transforms/{tr.name}\"\n",
    "    if not os.path.exists(transform_folder):\n",
    "        os.mkdir(transform_folder)\n",
    "    \n",
    "    try:\n",
    "        # convert the file to YML model\n",
    "        tr_yaml = tr.to_yaml()\n",
    "        \n",
    "        # Write the model file\n",
    "        with open(f\"{transform_folder}/{tr.name}.yaml\", \"w\") as yaml_file:\n",
    "            yaml_file.write(tr_yaml)\n",
    "            \n",
    "        # Write the source code\n",
    "        with open(f\"{transform_folder}/{tr.name}.sql\", \"w\") as sql_file:\n",
    "            sql_file.write(tr.source_code)\n",
    "        \n",
    "        print(f\"Transform \\\"{tr.name}\\\" files written to {transform_folder}\")\n",
    "        \n",
    "    except Exception as _: \n",
    "        # If bad stuff happens, let's still write a file. Git holds on to old versions of a file!\n",
    "        with open(f\"{transform_folder}/{tr.name}.yaml\", \"w\") as yaml_file:\n",
    "            err_msg = f\"Failed to generate offline yaml representation of Transform({tr.name})\"\n",
    "            yaml_file.write(err_msg)\n",
    "            print(err_msg)\n"
   ]
  },
  {
   "cell_type": "markdown",
   "metadata": {},
   "source": [
    "## Commit Rasgo YAML dataset representations to your repository"
   ]
  },
  {
   "cell_type": "code",
   "execution_count": null,
   "metadata": {},
   "outputs": [],
   "source": [
    "from datetime import datetime \n",
    "\n",
    "!git add -A \n",
    "!git status -s # show which files are being updated\n",
    "!git commit -m f'Rasgo Datasets Sync | {datetime.now()}'\n",
    "!git push\n"
   ]
  }
 ],
 "metadata": {
  "kernelspec": {
   "display_name": "Python 3 (ipykernel)",
   "language": "python",
   "name": "python3"
  },
  "language_info": {
   "codemirror_mode": {
    "name": "ipython",
    "version": 3
   },
   "file_extension": ".py",
   "mimetype": "text/x-python",
   "name": "python",
   "nbconvert_exporter": "python",
   "pygments_lexer": "ipython3",
   "version": "3.7.11"
  },
  "vscode": {
   "interpreter": {
    "hash": "31f2aee4e71d21fbe5cf8b01ff0e069b9275f58929596ceb00d14d90e3e16cd6"
   }
  }
 },
 "nbformat": 4,
 "nbformat_minor": 4
}
