{
 "cells": [
  {
   "cell_type": "markdown",
   "metadata": {},
   "source": [
    "# PyRasgo Tutorial"
   ]
  },
  {
   "cell_type": "markdown",
   "metadata": {},
   "source": [
    "With this tutorial, in under 4 minutes you'll be able to generate feature profiles that give you full visibility into your data, and calculate feature importance score on your features to select which features are most impactful to your prediction. Please give it a try. We think you’ll find PyRasgo easier to use and more powerful than other packages for these tasks.\n",
    "\n",
    "This notebook will use gold and silver price data from `rdatasets` to explore feature engineering to predict the price of gold in one week.  In addition, `pyrasgo` uses SHAP values from the `catboost` package to calculate feature inportance to capture the impact of this feature engineering and prune features at the end of the tutorial."
   ]
  },
  {
   "cell_type": "markdown",
   "metadata": {},
   "source": [
    "### Workflow"
   ]
  },
  {
   "cell_type": "markdown",
   "metadata": {},
   "source": [
    "* Connect to Rasgo\n",
    "* Create initial dataset\n",
    "* Feature engineering\n",
    "* Feature selection"
   ]
  },
  {
   "cell_type": "markdown",
   "metadata": {},
   "source": [
    "### Packages"
   ]
  },
  {
   "cell_type": "markdown",
   "metadata": {},
   "source": [
    "The documentation for each package used in this tutorial is linked below:\n",
    "* [pandas](https://pandas.pydata.org/docs/)\n",
    "* [statsmodels](https://www.statsmodels.org/stable/index.html)\n",
    "    * [statsmodels.api](https://www.statsmodels.org/stable/api.html#statsmodels-api)\n",
    "* [PyRasgo](https://app.gitbook.com/@rasgo/s/rasgo-docs/pyrasgo-0.1/dataframe-prep)"
   ]
  },
  {
   "cell_type": "markdown",
   "metadata": {},
   "source": [
    "Install pyrasgo if it is not already available"
   ]
  },
  {
   "cell_type": "code",
   "execution_count": null,
   "metadata": {},
   "outputs": [],
   "source": [
    "#!pip install -U pyrasgo[df]"
   ]
  },
  {
   "cell_type": "code",
   "execution_count": 1,
   "metadata": {},
   "outputs": [],
   "source": [
    "import statsmodels.api as sm\n",
    "import pandas as pd\n",
    "import pyrasgo"
   ]
  },
  {
   "cell_type": "markdown",
   "metadata": {},
   "source": [
    "## Connect to Rasgo"
   ]
  },
  {
   "cell_type": "markdown",
   "metadata": {},
   "source": [
    "Enter your email and password to create an account. This account gives you free access to the Rasgo API which will calculate dataframe profiles, generate feature importance score, and produce feature explainability for you analysis.  In addition, this account allows you to maintain access to your analysis and share with your colleagues.\n",
    "\n",
    "**Note** This only needs to be run the first time you use pyrasgo.  "
   ]
  },
  {
   "cell_type": "code",
   "execution_count": null,
   "metadata": {},
   "outputs": [],
   "source": [
    "#pyrasgo.register(email='<your email>', password='<your password>')"
   ]
  },
  {
   "cell_type": "markdown",
   "metadata": {},
   "source": [
    "Enter the email and password you used at registration to connect to Rasgo."
   ]
  },
  {
   "cell_type": "code",
   "execution_count": 2,
   "metadata": {},
   "outputs": [],
   "source": [
    "rasgo = pyrasgo.login(email='<your email>', password='<your password>')"
   ]
  },
  {
   "cell_type": "markdown",
   "metadata": {},
   "source": [
    "## Create initial dataset"
   ]
  },
  {
   "cell_type": "markdown",
   "metadata": {},
   "source": [
    "The data is from `rdatasets` imported using the Python package `statsmodels`."
   ]
  },
  {
   "cell_type": "code",
   "execution_count": 3,
   "metadata": {},
   "outputs": [
    {
     "name": "stdout",
     "output_type": "stream",
     "text": [
      "<class 'pandas.core.frame.DataFrame'>\n",
      "RangeIndex: 9132 entries, 0 to 9131\n",
      "Data columns (total 3 columns):\n",
      " #   Column  Non-Null Count  Dtype  \n",
      "---  ------  --------------  -----  \n",
      " 0   date    9132 non-null   object \n",
      " 1   gold    9132 non-null   float64\n",
      " 2   silver  9132 non-null   float64\n",
      "dtypes: float64(2), object(1)\n",
      "memory usage: 214.2+ KB\n"
     ]
    }
   ],
   "source": [
    "df = sm.datasets.get_rdataset('GoldSilver', 'AER').data.reset_index().rename(columns={'index': 'date'})\n",
    "df.info()"
   ]
  },
  {
   "cell_type": "markdown",
   "metadata": {},
   "source": [
    "### Create target"
   ]
  },
  {
   "cell_type": "markdown",
   "metadata": {},
   "source": [
    "The target will be the gold price in one week.  **target_df** is created to hold the future gold price and it will be merged back into the original dataframe to create the initial dataframe to be analyzed.  For ease, **target** will be set to **future_gold_price** here."
   ]
  },
  {
   "cell_type": "code",
   "execution_count": 4,
   "metadata": {},
   "outputs": [
    {
     "data": {
      "text/html": [
       "<div>\n",
       "<style scoped>\n",
       "    .dataframe tbody tr th:only-of-type {\n",
       "        vertical-align: middle;\n",
       "    }\n",
       "\n",
       "    .dataframe tbody tr th {\n",
       "        vertical-align: top;\n",
       "    }\n",
       "\n",
       "    .dataframe thead th {\n",
       "        text-align: right;\n",
       "    }\n",
       "</style>\n",
       "<table border=\"1\" class=\"dataframe\">\n",
       "  <thead>\n",
       "    <tr style=\"text-align: right;\">\n",
       "      <th></th>\n",
       "      <th>date</th>\n",
       "      <th>future_gold_price</th>\n",
       "    </tr>\n",
       "  </thead>\n",
       "  <tbody>\n",
       "    <tr>\n",
       "      <th>0</th>\n",
       "      <td>1977-12-02</td>\n",
       "      <td>100.00</td>\n",
       "    </tr>\n",
       "    <tr>\n",
       "      <th>1</th>\n",
       "      <td>1977-12-05</td>\n",
       "      <td>100.00</td>\n",
       "    </tr>\n",
       "    <tr>\n",
       "      <th>2</th>\n",
       "      <td>1977-12-06</td>\n",
       "      <td>100.00</td>\n",
       "    </tr>\n",
       "    <tr>\n",
       "      <th>3</th>\n",
       "      <td>1977-12-07</td>\n",
       "      <td>100.00</td>\n",
       "    </tr>\n",
       "    <tr>\n",
       "      <th>4</th>\n",
       "      <td>1977-12-08</td>\n",
       "      <td>100.00</td>\n",
       "    </tr>\n",
       "    <tr>\n",
       "      <th>...</th>\n",
       "      <td>...</td>\n",
       "      <td>...</td>\n",
       "    </tr>\n",
       "    <tr>\n",
       "      <th>9127</th>\n",
       "      <td>2012-11-27</td>\n",
       "      <td>906.96</td>\n",
       "    </tr>\n",
       "    <tr>\n",
       "      <th>9128</th>\n",
       "      <td>2012-11-28</td>\n",
       "      <td>907.61</td>\n",
       "    </tr>\n",
       "    <tr>\n",
       "      <th>9129</th>\n",
       "      <td>2012-11-29</td>\n",
       "      <td>909.26</td>\n",
       "    </tr>\n",
       "    <tr>\n",
       "      <th>9130</th>\n",
       "      <td>2012-11-30</td>\n",
       "      <td>905.00</td>\n",
       "    </tr>\n",
       "    <tr>\n",
       "      <th>9131</th>\n",
       "      <td>2012-12-03</td>\n",
       "      <td>915.88</td>\n",
       "    </tr>\n",
       "  </tbody>\n",
       "</table>\n",
       "<p>9132 rows × 2 columns</p>\n",
       "</div>"
      ],
      "text/plain": [
       "           date  future_gold_price\n",
       "0    1977-12-02             100.00\n",
       "1    1977-12-05             100.00\n",
       "2    1977-12-06             100.00\n",
       "3    1977-12-07             100.00\n",
       "4    1977-12-08             100.00\n",
       "...         ...                ...\n",
       "9127 2012-11-27             906.96\n",
       "9128 2012-11-28             907.61\n",
       "9129 2012-11-29             909.26\n",
       "9130 2012-11-30             905.00\n",
       "9131 2012-12-03             915.88\n",
       "\n",
       "[9132 rows x 2 columns]"
      ]
     },
     "execution_count": 4,
     "metadata": {},
     "output_type": "execute_result"
    }
   ],
   "source": [
    "df['date'] = pd.to_datetime(df.date)\n",
    "target_df = df[['date', 'gold']].copy()\n",
    "target_df['date'] = target_df.date - pd.to_timedelta('28 day')\n",
    "target_df.rename(columns={'gold': 'future_gold_price'}, inplace=True)\n",
    "target_df"
   ]
  },
  {
   "cell_type": "code",
   "execution_count": 5,
   "metadata": {},
   "outputs": [],
   "source": [
    "target = 'future_gold_price'"
   ]
  },
  {
   "cell_type": "code",
   "execution_count": 6,
   "metadata": {},
   "outputs": [],
   "source": [
    "training_df = df.merge(target_df, on='date', how='left')\n",
    "df = training_df[training_df.date < pd.to_datetime('2012-12-04')].ffill()"
   ]
  },
  {
   "cell_type": "markdown",
   "metadata": {},
   "source": [
    "## Feature engineering"
   ]
  },
  {
   "cell_type": "markdown",
   "metadata": {},
   "source": [
    "### Start experiment"
   ]
  },
  {
   "cell_type": "markdown",
   "metadata": {},
   "source": [
    "Create an experiment on Rasgo to allow you to track changes to features over time, run time travel analysis, and understand feature importance.  Creating an experiment allows you to track the changes you make during feature engineering and their impact on both the model performance and feature importance."
   ]
  },
  {
   "cell_type": "code",
   "execution_count": 7,
   "metadata": {},
   "outputs": [
    {
     "name": "stdout",
     "output_type": "stream",
     "text": [
      "Activated new experiment with name Tutorial Experiment for dataframe: aUf7WI2ErGIsGS4mAIKIKdcPhNfoR0zCcmYJ0-Ed9PU\n"
     ]
    }
   ],
   "source": [
    "rasgo.activate_experiment('Tutorial Experiment')"
   ]
  },
  {
   "cell_type": "markdown",
   "metadata": {},
   "source": [
    "### Profile starting data"
   ]
  },
  {
   "cell_type": "markdown",
   "metadata": {},
   "source": [
    "#### Generate feature profiles"
   ]
  },
  {
   "cell_type": "code",
   "execution_count": 8,
   "metadata": {},
   "outputs": [
    {
     "name": "stdout",
     "output_type": "stream",
     "text": [
      "Profile URL: https://app.rasgoml.com/dataframes/aUf7WI2ErGIsGS4mAIKIKdcPhNfoR0zCcmYJ0-Ed9PU/features\n"
     ]
    }
   ],
   "source": [
    "response = rasgo.evaluate.profile(df)"
   ]
  },
  {
   "cell_type": "markdown",
   "metadata": {},
   "source": [
    "This page shows 4 features: **date*, **gold**, **silver** and **future_gold_price**.  Clicking on any of the rows will provide detailed statistics about that feature."
   ]
  },
  {
   "cell_type": "markdown",
   "metadata": {},
   "source": [
    "#### Calculate feature importance"
   ]
  },
  {
   "cell_type": "markdown",
   "metadata": {},
   "source": [
    "This generates a baseline to compare the impact of our feature engineering to.  PyRasgo automates the creation of a `catboost` model and the calculation of the SHAP values.  The feature importance score is the mean absolute value of the SHAP value for that feature."
   ]
  },
  {
   "cell_type": "code",
   "execution_count": 9,
   "metadata": {
    "tags": []
   },
   "outputs": [
    {
     "name": "stdout",
     "output_type": "stream",
     "text": [
      "Importance URL: https://app.rasgoml.com/dataframes/aUf7WI2ErGIsGS4mAIKIKdcPhNfoR0zCcmYJ0-Ed9PU/importance\n"
     ]
    },
    {
     "data": {
      "text/plain": [
       "331.5336228692031"
      ]
     },
     "execution_count": 9,
     "metadata": {},
     "output_type": "execute_result"
    }
   ],
   "source": [
    "response = rasgo.evaluate.feature_importance(df, target_column=target, timeseries_index='date')\n",
    "response['modelPerformance']['RMSE']"
   ]
  },
  {
   "cell_type": "markdown",
   "metadata": {},
   "source": [
    "The graph shows that **gold** is much more important to the model prediction than **silver**.  Keep in mind that with an **RMSE** of 332, this is not a good model. "
   ]
  },
  {
   "cell_type": "markdown",
   "metadata": {},
   "source": [
    "### Start feature engineering"
   ]
  },
  {
   "cell_type": "markdown",
   "metadata": {},
   "source": [
    "Create initial lag variables"
   ]
  },
  {
   "cell_type": "code",
   "execution_count": 10,
   "metadata": {},
   "outputs": [],
   "source": [
    "df['gold_lag7'] = df['gold'].shift(7)\n",
    "df['gold_lag14'] = df['gold'].shift(14)\n",
    "df['gold_lag28'] = df['gold'].shift(28)\n",
    "df['gold_lag60'] = df['gold'].shift(60)\n",
    "\n",
    "df['silver_lag7'] = df['silver'].shift(7)\n",
    "df['silver_lag14'] = df['silver'].shift(14)\n",
    "df['silver_lag28'] = df['silver'].shift(28)\n",
    "df['silver_lag60'] = df['silver'].shift(60)"
   ]
  },
  {
   "cell_type": "markdown",
   "metadata": {},
   "source": [
    "Calculate feature importance to understand value of these new features."
   ]
  },
  {
   "cell_type": "code",
   "execution_count": 11,
   "metadata": {},
   "outputs": [
    {
     "name": "stdout",
     "output_type": "stream",
     "text": [
      "Importance URL: https://app.rasgoml.com/dataframes/aUf7WI2ErGIsGS4mAIKIKdcPhNfoR0zCcmYJ0-Ed9PU/importance\n"
     ]
    },
    {
     "data": {
      "text/plain": [
       "8.914154234793658"
      ]
     },
     "execution_count": 11,
     "metadata": {},
     "output_type": "execute_result"
    }
   ],
   "source": [
    "response = rasgo.evaluate.feature_importance(df, target_column=target)\n",
    "response['modelPerformance']['RMSE']"
   ]
  },
  {
   "cell_type": "markdown",
   "metadata": {},
   "source": [
    "Adding these 8 features improved the model's **RMSE** significantly. Checking the graph allows us to see the relative importance of each of the features in the dataset."
   ]
  },
  {
   "cell_type": "markdown",
   "metadata": {},
   "source": [
    "#### Calculate ratios  and differences of gold price over time"
   ]
  },
  {
   "cell_type": "code",
   "execution_count": 12,
   "metadata": {},
   "outputs": [],
   "source": [
    "# ratio of current gold price to prior prices\n",
    "df['gold_to_last7'] = df['gold'] / df['gold_lag7']\n",
    "df['gold_to_last14'] = df['gold'] / df['gold_lag14']\n",
    "df['gold_to_last28'] = df['gold'] / df['gold_lag28']\n",
    "df['gold_to_last60'] = df['gold'] / df['gold_lag60']\n",
    "\n",
    "# ratio of prior gold price to previous prices\n",
    "df['gold_7_to_last14'] = df['gold_lag7'] / df['gold_lag14']\n",
    "df['gold_7_to_last28'] = df['gold_lag7'] / df['gold_lag28']\n",
    "df['gold_14_to_last28'] = df['gold_lag14'] / df['gold_lag28']\n",
    "\n",
    "# difference between current gold price and prior prices\n",
    "df['gold_minus_last7'] = df['gold'] - df['gold_lag7']\n",
    "df['gold_minus_last14'] = df['gold'] - df['gold_lag14']\n",
    "df['gold_minus_last28'] = df['gold'] - df['gold_lag28']\n",
    "df['gold_minus_last60'] = df['gold'] - df['gold_lag60']\n",
    "\n",
    "# difference between prior gold price and previous prices\n",
    "df['gold_7_minus_last14'] = df['gold_lag7'] - df['gold_lag14']\n",
    "df['gold_7_minus_last28'] = df['gold_lag7'] - df['gold_lag28']\n",
    "df['gold_14_minus_last28'] = df['gold_lag14'] - df['gold_lag28']"
   ]
  },
  {
   "cell_type": "markdown",
   "metadata": {},
   "source": [
    "Check feature importance for these new features."
   ]
  },
  {
   "cell_type": "code",
   "execution_count": 13,
   "metadata": {},
   "outputs": [
    {
     "name": "stdout",
     "output_type": "stream",
     "text": [
      "Importance URL: https://app.rasgoml.com/dataframes/aUf7WI2ErGIsGS4mAIKIKdcPhNfoR0zCcmYJ0-Ed9PU/importance\n"
     ]
    },
    {
     "data": {
      "text/plain": [
       "9.829427350534086"
      ]
     },
     "execution_count": 13,
     "metadata": {},
     "output_type": "execute_result"
    }
   ],
   "source": [
    "response = rasgo.evaluate.feature_importance(df, target_column=target)\n",
    "response['modelPerformance']['RMSE']"
   ]
  },
  {
   "cell_type": "markdown",
   "metadata": {},
   "source": [
    "We can compare the **RMSE** and see that adding these additional features is not improving the mdoel.  Examining the feature importance plots, none of these new variables are as important as the lag variables based on gold."
   ]
  },
  {
   "cell_type": "markdown",
   "metadata": {},
   "source": [
    "### Feature selection"
   ]
  },
  {
   "cell_type": "markdown",
   "metadata": {},
   "source": [
    "Keep top half of features."
   ]
  },
  {
   "cell_type": "code",
   "execution_count": 14,
   "metadata": {},
   "outputs": [
    {
     "name": "stdout",
     "output_type": "stream",
     "text": [
      "Prune Method: Keeping top 0.5 of features\n",
      "Importance URL: https://app.rasgoml.com/dataframes/aUf7WI2ErGIsGS4mAIKIKdcPhNfoR0zCcmYJ0-Ed9PU/importance\n",
      "Dropped features not in top 0.5 pct: ['gold_7_minus_last28', 'gold_minus_last7', 'gold_14_to_last28', 'gold_minus_last28', 'gold_to_last14', 'gold_minus_last14', 'gold_to_last7', 'gold_to_last28', 'gold_14_minus_last28', 'gold_7_to_last28', 'gold_7_minus_last14', 'gold_7_to_last14']\n"
     ]
    }
   ],
   "source": [
    "df = rasgo.prune.features(df, target_column=target, top_n_pct=.5)"
   ]
  },
  {
   "cell_type": "markdown",
   "metadata": {},
   "source": [
    "Calculate the feature importance to check the impact of pruning the features."
   ]
  },
  {
   "cell_type": "code",
   "execution_count": 15,
   "metadata": {},
   "outputs": [
    {
     "name": "stdout",
     "output_type": "stream",
     "text": [
      "Importance URL: https://app.rasgoml.com/dataframes/aUf7WI2ErGIsGS4mAIKIKdcPhNfoR0zCcmYJ0-Ed9PU/importance\n"
     ]
    },
    {
     "data": {
      "text/plain": [
       "8.58348035854779"
      ]
     },
     "execution_count": 15,
     "metadata": {},
     "output_type": "execute_result"
    }
   ],
   "source": [
    "response = rasgo.evaluate.feature_importance(df, target_column=target)\n",
    "response['modelPerformance']['RMSE']"
   ]
  },
  {
   "cell_type": "markdown",
   "metadata": {},
   "source": [
    "Dropping the least important half of the features gives not just a simplier model with only 12 features, but also improves the **RMSE**.  The feature importance graph continues to show the importance of the lagged gold prices."
   ]
  },
  {
   "cell_type": "markdown",
   "metadata": {},
   "source": [
    "Trim another quarter of the features."
   ]
  },
  {
   "cell_type": "code",
   "execution_count": 16,
   "metadata": {},
   "outputs": [
    {
     "name": "stdout",
     "output_type": "stream",
     "text": [
      "Prune Method: Keeping top 0.75 of features\n",
      "Importance URL: https://app.rasgoml.com/dataframes/aUf7WI2ErGIsGS4mAIKIKdcPhNfoR0zCcmYJ0-Ed9PU/importance\n",
      "Dropped features not in top 0.75 pct: ['silver_lag28', 'gold_minus_last60', 'silver_lag14']\n"
     ]
    }
   ],
   "source": [
    "df = rasgo.prune.features(df, target_column=target, top_n_pct=.75)"
   ]
  },
  {
   "cell_type": "code",
   "execution_count": 17,
   "metadata": {
    "tags": []
   },
   "outputs": [
    {
     "name": "stdout",
     "output_type": "stream",
     "text": [
      "Importance URL: https://app.rasgoml.com/dataframes/aUf7WI2ErGIsGS4mAIKIKdcPhNfoR0zCcmYJ0-Ed9PU/importance\n"
     ]
    },
    {
     "data": {
      "text/plain": [
       "9.704334104247536"
      ]
     },
     "execution_count": 17,
     "metadata": {},
     "output_type": "execute_result"
    }
   ],
   "source": [
    "response = rasgo.evaluate.feature_importance(df, target_column=target)\n",
    "response['modelPerformance']['RMSE']"
   ]
  },
  {
   "cell_type": "markdown",
   "metadata": {},
   "source": [
    "Pruning further to 9 features gives a simplier model with a similar **RMSE**."
   ]
  },
  {
   "cell_type": "markdown",
   "metadata": {},
   "source": [
    "### End the experiment"
   ]
  },
  {
   "cell_type": "code",
   "execution_count": 18,
   "metadata": {},
   "outputs": [
    {
     "name": "stdout",
     "output_type": "stream",
     "text": [
      "Experiment ended\n"
     ]
    }
   ],
   "source": [
    "rasgo.end_experiment()"
   ]
  },
  {
   "cell_type": "markdown",
   "metadata": {},
   "source": [
    "The results of this expirement can be viewed [here](https://app.rasgoml.com/dataframes/aUf7WI2ErGIsGS4mAIKIKdcPhNfoR0zCcmYJ0-Ed9PU/importance)"
   ]
  },
  {
   "cell_type": "markdown",
   "metadata": {},
   "source": [
    "## Additional Resources"
   ]
  },
  {
   "cell_type": "markdown",
   "metadata": {},
   "source": [
    "* Provide feedback and ask questions about PyRasgo on the [Rasgo Forum](https://forum.rasgoml.com)\n",
    "* Join our community on [Slack](https://join.slack.com/t/rasgousergroup/shared_invite/zt-nytkq6np-ANEJvbUSbT2Gkvc8JICp3g)\n",
    "* [View](https://github.com/rasgointelligence/feature-engineering-tutorials) our feature engineering tutorials"
   ]
  }
 ],
 "metadata": {
  "kernelspec": {
   "display_name": "Python 3",
   "language": "python",
   "name": "python3"
  },
  "language_info": {
   "codemirror_mode": {
    "name": "ipython",
    "version": 3
   },
   "file_extension": ".py",
   "mimetype": "text/x-python",
   "name": "python",
   "nbconvert_exporter": "python",
   "pygments_lexer": "ipython3",
   "version": "3.7.10"
  }
 },
 "nbformat": 4,
 "nbformat_minor": 4
}
